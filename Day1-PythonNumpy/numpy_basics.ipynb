{
 "cells": [
  {
   "cell_type": "markdown",
   "id": "41289ee1",
   "metadata": {},
   "source": [
    "# Day 1: Python + NumPy Basics\n",
    "Welcome to Day 1. Today I'll revise core Python essentials and start working with NumPy arrays.\n",
    "\n",
    "Let's keep the basics short."
   ]
  },
  {
   "cell_type": "markdown",
   "id": "b8b4dfa7",
   "metadata": {},
   "source": [
    "## Python Data Types and Variables\n",
    "Revision starts with- integers, floats, strings, booleans and lists."
   ]
  },
  {
   "cell_type": "code",
   "execution_count": null,
   "id": "14d2bdf8",
   "metadata": {},
   "outputs": [],
   "source": [
    "a = 5                           #integer\n",
    "b = 5.5                         #float\n",
    "c = \"Prashant Gliv\"             #string\n",
    "d = True                        #boolean\n",
    "e = [1,2,3,4,5]                 #list\n",
    "\n",
    "print(type(a),type(b),type(c),type(d),type(e))"
   ]
  },
  {
   "cell_type": "markdown",
   "id": "2db62f5c",
   "metadata": {},
   "source": [
    "We understood the data types. Now, let's focus on NumPy."
   ]
  },
  {
   "cell_type": "markdown",
   "id": "5152c789",
   "metadata": {},
   "source": [
    "## Getting familiar with NumPy\n",
    "\n",
    "First, install the library."
   ]
  },
  {
   "cell_type": "code",
   "execution_count": null,
   "id": "4290a157",
   "metadata": {},
   "outputs": [],
   "source": [
    "!pip install numpy"
   ]
  },
  {
   "cell_type": "markdown",
   "id": "e73ff402",
   "metadata": {},
   "source": [
    "Once installed, import it using the code below."
   ]
  },
  {
   "cell_type": "code",
   "execution_count": 3,
   "id": "24216936",
   "metadata": {},
   "outputs": [],
   "source": [
    "import numpy as np"
   ]
  },
  {
   "cell_type": "markdown",
   "id": "90f080c5",
   "metadata": {},
   "source": [
    "## NumPy Arrays\n",
    "Let's create our first numpy array."
   ]
  },
  {
   "cell_type": "code",
   "execution_count": 4,
   "id": "be07bf09",
   "metadata": {},
   "outputs": [
    {
     "name": "stdout",
     "output_type": "stream",
     "text": [
      "Array:  [10 20 30 40 50]\n",
      "Shape:  (5,)\n",
      "Data Type:  int64\n"
     ]
    }
   ],
   "source": [
    "arr= np.array([10,20,30,40,50])\n",
    "print(\"Array: \", arr)\n",
    "print(\"Shape: \", arr.shape)\n",
    "print(\"Data Type: \", arr.dtype)"
   ]
  },
  {
   "cell_type": "markdown",
   "id": "5fcfe132",
   "metadata": {},
   "source": [
    "## Array Dimensions\n",
    "Reviewing array dimensions now-"
   ]
  },
  {
   "cell_type": "code",
   "execution_count": 12,
   "id": "b06a2e6a",
   "metadata": {},
   "outputs": [
    {
     "name": "stdout",
     "output_type": "stream",
     "text": [
      "O-D:  32 Shape:  ()\n",
      "1-D:  [10 20 30] Shape:  (3,)\n",
      "2-D:  [[1 2]\n",
      " [3 4]] Shape:  (2, 2)\n",
      "3-D:  [[[1 2]\n",
      "  [3 4]]\n",
      "\n",
      " [[5 6]\n",
      "  [7 8]]] Shape:  (2, 2, 2)\n"
     ]
    }
   ],
   "source": [
    "\n",
    "#0-D array\n",
    "a=np.array(32)\n",
    "print(\"O-D: \",a ,\"Shape: \",a.shape)\n",
    "\n",
    "#1-D array\n",
    "b=np.array([10,20,30])\n",
    "print(\"1-D: \",b,\"Shape: \",b.shape)\n",
    "\n",
    "#2-D array\n",
    "c= np.array([[1,2],[3,4]])\n",
    "print(\"2-D: \",c ,\"Shape: \",c.shape)\n",
    "\n",
    "#3-D array\n",
    "d= np.array([[[1,2], [3,4]], [[5,6], [7,8]]])\n",
    "print(\"3-D: \",d ,\"Shape: \",d.shape)\n"
   ]
  },
  {
   "cell_type": "markdown",
   "id": "20700e90",
   "metadata": {},
   "source": [
    "## Array Indexing & Slicing \n",
    "Doesn't differ much from lists in python- just more dimensions."
   ]
  },
  {
   "cell_type": "markdown",
   "id": "5afb98a7",
   "metadata": {},
   "source": [
    "Basic Indexing-"
   ]
  },
  {
   "cell_type": "code",
   "execution_count": 8,
   "id": "63cf380b",
   "metadata": {},
   "outputs": [
    {
     "name": "stdout",
     "output_type": "stream",
     "text": [
      "10\n",
      "50\n"
     ]
    }
   ],
   "source": [
    "arr = np.array([10,20,30,40,50])\n",
    "print( arr[0])\n",
    "print(arr[-1])"
   ]
  },
  {
   "cell_type": "markdown",
   "id": "d0fc17f0",
   "metadata": {},
   "source": [
    "Slicing-"
   ]
  },
  {
   "cell_type": "code",
   "execution_count": 9,
   "id": "a1944c94",
   "metadata": {},
   "outputs": [
    {
     "name": "stdout",
     "output_type": "stream",
     "text": [
      "[20 30]\n"
     ]
    }
   ],
   "source": [
    "print(arr[1:3])"
   ]
  },
  {
   "cell_type": "markdown",
   "id": "97f586c3",
   "metadata": {},
   "source": [
    "2-D Indexing-"
   ]
  },
  {
   "cell_type": "code",
   "execution_count": 10,
   "id": "b7d481e6",
   "metadata": {},
   "outputs": [
    {
     "name": "stdout",
     "output_type": "stream",
     "text": [
      "2\n",
      "[2 5]\n"
     ]
    }
   ],
   "source": [
    "arr2d= np.array([[1,2,3], [4,5,6]])\n",
    "print(arr2d[0,1])           #row 0, column 1\n",
    "print(arr2d[:,1])           #all rows, column 1"
   ]
  },
  {
   "cell_type": "markdown",
   "id": "08937cba",
   "metadata": {},
   "source": [
    "## Practice 1.0"
   ]
  },
  {
   "cell_type": "code",
   "execution_count": 11,
   "id": "0d57942b",
   "metadata": {},
   "outputs": [
    {
     "name": "stdout",
     "output_type": "stream",
     "text": [
      "Element at row 1 and column 2:  60\n",
      "Full first row:  [10 20 30]\n",
      "Full last column:  [30 60 90]\n",
      "Middle 2x2 block:  [[20 30]\n",
      " [50 60]]\n"
     ]
    }
   ],
   "source": [
    "arr= np.array([[10,20,30],\n",
    "               [40,50,60],\n",
    "               [70,80,90]])\n",
    "print(\"Element at row 1 and column 2: \", arr[1,2])\n",
    "print(\"Full first row: \", arr[0])\n",
    "print(\"Full last column: \", arr[:, -1])\n",
    "print(\"Middle 2x2 block: \", arr[0:2, 1:3])"
   ]
  },
  {
   "cell_type": "markdown",
   "id": "b38b9872",
   "metadata": {},
   "source": [
    "## Broadcasting\n",
    "This is how NumPy handles operations between arrays of different shapes. "
   ]
  },
  {
   "cell_type": "code",
   "execution_count": 14,
   "id": "afbf7f01",
   "metadata": {},
   "outputs": [
    {
     "name": "stdout",
     "output_type": "stream",
     "text": [
      "a + b is:  [5 7 9]\n",
      "a * b is:  [ 4 10 18]\n",
      "a * 2 is:  [2 4 6]\n",
      "Broadcasted Addition:\n",
      " [[14 25 36]\n",
      " [44 55 66]]\n",
      "Sum:  210\n",
      "Mean of each column:  [25. 35. 45.]\n",
      "Max in each row:  [30 60]\n"
     ]
    }
   ],
   "source": [
    "a = np.array([1,2,3])\n",
    "b= np.array([4,5,6])\n",
    "\n",
    "#Element-wise operations\n",
    "print(\"a + b is: \", a+b)\n",
    "print(\"a * b is: \", a*b)\n",
    "\n",
    "#Scalar operation\n",
    "print(\"a * 2 is: \", a*2)\n",
    "\n",
    "#Broadcasting (adding 1D to 2D)\n",
    "c= np.array([[10,20,30],[40,50,60]])\n",
    "print(\"Broadcasted Addition:\\n\", b+c)\n",
    "\n",
    "#useful functions\n",
    "print(\"Sum: \", np.sum(c))\n",
    "print(\"Mean of each column: \", np.mean(c, axis= 0 ))\n",
    "print(\"Max in each row: \", np.max(c, axis=1))"
   ]
  },
  {
   "cell_type": "markdown",
   "id": "46d2bc0d",
   "metadata": {},
   "source": [
    "## Practice 2.0"
   ]
  },
  {
   "cell_type": "code",
   "execution_count": null,
   "id": "5dd76592",
   "metadata": {},
   "outputs": [
    {
     "name": "stdout",
     "output_type": "stream",
     "text": [
      "Original array: \n",
      "\n",
      "Shape:  (3, 2)\n",
      "Multiply every element by 3:  [[ 30  60]\n",
      " [ 90 120]\n",
      " [150 180]]\n",
      "Broadcastion: \n",
      " [[11 22]\n",
      " [31 42]\n",
      " [51 62]]\n",
      "Sum of each row:  [ 30  70 110]\n"
     ]
    }
   ],
   "source": [
    "arr= np.array([[10,20],[30,40],[50,60]])\n",
    "print(\"Original array: \\n\")\n",
    "\n",
    "print(\"Shape: \", arr.shape)\n",
    "print(\"Multiply every element by 3: \", arr*3)\n",
    "\n",
    "#add [1,2] to every row (broadcasting)\n",
    "print(\"Broadcasting: \\n\", arr + np.array([1,2]))\n",
    "\n",
    "#find sum of each row\n",
    "print(\"Sum of each row: \", np.sum(arr, axis=1))"
   ]
  },
  {
   "cell_type": "markdown",
   "id": "a4e0f7fc",
   "metadata": {},
   "source": [
    "## Day 1 FINISHED."
   ]
  }
 ],
 "metadata": {
  "kernelspec": {
   "display_name": "Python 3",
   "language": "python",
   "name": "python3"
  },
  "language_info": {
   "codemirror_mode": {
    "name": "ipython",
    "version": 3
   },
   "file_extension": ".py",
   "mimetype": "text/x-python",
   "name": "python",
   "nbconvert_exporter": "python",
   "pygments_lexer": "ipython3",
   "version": "3.12.10"
  }
 },
 "nbformat": 4,
 "nbformat_minor": 5
}
