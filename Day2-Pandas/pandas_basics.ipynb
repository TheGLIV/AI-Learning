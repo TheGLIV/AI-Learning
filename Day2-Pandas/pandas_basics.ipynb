{
 "cells": [
  {
   "cell_type": "markdown",
   "id": "5a4b4e67",
   "metadata": {},
   "source": [
    "# Introduction to Pandas"
   ]
  },
  {
   "cell_type": "markdown",
   "id": "9efc6084",
   "metadata": {},
   "source": [
    "It is the go-to library for handling tabular data in Python."
   ]
  },
  {
   "cell_type": "code",
   "execution_count": 3,
   "id": "14c41b95",
   "metadata": {},
   "outputs": [],
   "source": [
    "import pandas as pd"
   ]
  },
  {
   "cell_type": "markdown",
   "id": "299fec23",
   "metadata": {},
   "source": [
    "## Creating a Dataframe\n",
    "A dataframe is a kind of table with rows and columns. Though they do have some unique properties."
   ]
  },
  {
   "cell_type": "code",
   "execution_count": 4,
   "id": "8128b820",
   "metadata": {},
   "outputs": [
    {
     "name": "stdout",
     "output_type": "stream",
     "text": [
      "       Name  Age     Place\n",
      "0  Prashant   21  Dehradun\n",
      "1     Rahul   22     Delhi\n",
      "2  Wangsham   20  Nagaland\n"
     ]
    }
   ],
   "source": [
    "dataTable = {\n",
    "    'Name': ['Prashant','Rahul','Wangsham'],\n",
    "    'Age' : [21, 22, 20],\n",
    "    'Place' : ['Dehradun','Delhi','Nagaland']\n",
    "}\n",
    "\n",
    "df= pd.DataFrame(dataTable)\n",
    "print(df)"
   ]
  },
  {
   "cell_type": "markdown",
   "id": "1a0fdc9d",
   "metadata": {},
   "source": [
    "## Load a CSV File\n",
    "A CSV file (Comma Separated Values) is a simple structured format used to store tabular data. But here we use a plain text file for it only and separate the values with commas so as to make separations."
   ]
  },
  {
   "cell_type": "code",
   "execution_count": 9,
   "id": "e43f5079",
   "metadata": {},
   "outputs": [
    {
     "data": {
      "text/html": [
       "<div>\n",
       "<style scoped>\n",
       "    .dataframe tbody tr th:only-of-type {\n",
       "        vertical-align: middle;\n",
       "    }\n",
       "\n",
       "    .dataframe tbody tr th {\n",
       "        vertical-align: top;\n",
       "    }\n",
       "\n",
       "    .dataframe thead th {\n",
       "        text-align: right;\n",
       "    }\n",
       "</style>\n",
       "<table border=\"1\" class=\"dataframe\">\n",
       "  <thead>\n",
       "    <tr style=\"text-align: right;\">\n",
       "      <th></th>\n",
       "      <th>Name</th>\n",
       "      <th>Age</th>\n",
       "      <th>Place</th>\n",
       "      <th>Score</th>\n",
       "    </tr>\n",
       "  </thead>\n",
       "  <tbody>\n",
       "    <tr>\n",
       "      <th>0</th>\n",
       "      <td>Prashant Yadav</td>\n",
       "      <td>21</td>\n",
       "      <td>Dehradun</td>\n",
       "      <td>100.00</td>\n",
       "    </tr>\n",
       "    <tr>\n",
       "      <th>1</th>\n",
       "      <td>Rahul Pathak</td>\n",
       "      <td>22</td>\n",
       "      <td>Delhi</td>\n",
       "      <td>98.56</td>\n",
       "    </tr>\n",
       "    <tr>\n",
       "      <th>2</th>\n",
       "      <td>Wangsham Younpe</td>\n",
       "      <td>20</td>\n",
       "      <td>Nagaland</td>\n",
       "      <td>85.88</td>\n",
       "    </tr>\n",
       "  </tbody>\n",
       "</table>\n",
       "</div>"
      ],
      "text/plain": [
       "              Name  Age      Place   Score\n",
       "0   Prashant Yadav   21   Dehradun  100.00\n",
       "1     Rahul Pathak   22      Delhi   98.56\n",
       "2  Wangsham Younpe   20   Nagaland   85.88"
      ]
     },
     "execution_count": 9,
     "metadata": {},
     "output_type": "execute_result"
    }
   ],
   "source": [
    "df= pd.read_csv(\"sample_csv_file.csv\")\n",
    "df.head()"
   ]
  },
  {
   "cell_type": "markdown",
   "id": "2cde365f",
   "metadata": {},
   "source": [
    "## Common Dataframe Functions\n",
    "The Notebook only shows output for the last line here. So running all at once is not possible. We can use print() if we want all results at once. \n",
    "Here, remove '#' to run these below one-by-one."
   ]
  },
  {
   "cell_type": "code",
   "execution_count": null,
   "id": "84e3fe20",
   "metadata": {},
   "outputs": [],
   "source": [
    "#df.shape\n",
    "#df.columns          #column names\n",
    "#df.info()\n",
    "#df.describe()       #stats summary for numeric columns\n",
    "#df['Place']         #access column\n",
    "#df[['Name','Score']] #access multiple columns \n",
    "#df.iloc[0]          #select complete first row\n",
    "#df.loc[0,'Name']    #select specific cell"
   ]
  },
  {
   "cell_type": "markdown",
   "id": "cb0f3295",
   "metadata": {},
   "source": [
    "### Filter rows"
   ]
  },
  {
   "cell_type": "code",
   "execution_count": 28,
   "id": "33c071b0",
   "metadata": {},
   "outputs": [
    {
     "name": "stdout",
     "output_type": "stream",
     "text": [
      "0     True\n",
      "1    False\n",
      "2     True\n",
      "Name: Age, dtype: bool\n"
     ]
    },
    {
     "data": {
      "text/html": [
       "<div>\n",
       "<style scoped>\n",
       "    .dataframe tbody tr th:only-of-type {\n",
       "        vertical-align: middle;\n",
       "    }\n",
       "\n",
       "    .dataframe tbody tr th {\n",
       "        vertical-align: top;\n",
       "    }\n",
       "\n",
       "    .dataframe thead th {\n",
       "        text-align: right;\n",
       "    }\n",
       "</style>\n",
       "<table border=\"1\" class=\"dataframe\">\n",
       "  <thead>\n",
       "    <tr style=\"text-align: right;\">\n",
       "      <th></th>\n",
       "      <th>Name</th>\n",
       "      <th>Age</th>\n",
       "      <th>Place</th>\n",
       "      <th>Score</th>\n",
       "    </tr>\n",
       "  </thead>\n",
       "  <tbody>\n",
       "    <tr>\n",
       "      <th>0</th>\n",
       "      <td>Prashant Yadav</td>\n",
       "      <td>21</td>\n",
       "      <td>Dehradun</td>\n",
       "      <td>100.00</td>\n",
       "    </tr>\n",
       "    <tr>\n",
       "      <th>2</th>\n",
       "      <td>Wangsham Younpe</td>\n",
       "      <td>20</td>\n",
       "      <td>Nagaland</td>\n",
       "      <td>85.88</td>\n",
       "    </tr>\n",
       "  </tbody>\n",
       "</table>\n",
       "</div>"
      ],
      "text/plain": [
       "              Name  Age      Place   Score\n",
       "0   Prashant Yadav   21   Dehradun  100.00\n",
       "2  Wangsham Younpe   20   Nagaland   85.88"
      ]
     },
     "execution_count": 28,
     "metadata": {},
     "output_type": "execute_result"
    }
   ],
   "source": [
    "print(df['Age']<=21)          #print() used. Both expressions will be shown.\n",
    "\n",
    "df[df['Age']<=21]"
   ]
  },
  {
   "cell_type": "markdown",
   "id": "e0a3fae8",
   "metadata": {},
   "source": [
    "### Add new column"
   ]
  },
  {
   "cell_type": "code",
   "execution_count": 21,
   "id": "61fa07b3",
   "metadata": {},
   "outputs": [
    {
     "data": {
      "text/html": [
       "<div>\n",
       "<style scoped>\n",
       "    .dataframe tbody tr th:only-of-type {\n",
       "        vertical-align: middle;\n",
       "    }\n",
       "\n",
       "    .dataframe tbody tr th {\n",
       "        vertical-align: top;\n",
       "    }\n",
       "\n",
       "    .dataframe thead th {\n",
       "        text-align: right;\n",
       "    }\n",
       "</style>\n",
       "<table border=\"1\" class=\"dataframe\">\n",
       "  <thead>\n",
       "    <tr style=\"text-align: right;\">\n",
       "      <th></th>\n",
       "      <th>Name</th>\n",
       "      <th>Age</th>\n",
       "      <th>Place</th>\n",
       "      <th>Score</th>\n",
       "      <th>Degree at age</th>\n",
       "    </tr>\n",
       "  </thead>\n",
       "  <tbody>\n",
       "    <tr>\n",
       "      <th>0</th>\n",
       "      <td>Prashant Yadav</td>\n",
       "      <td>21</td>\n",
       "      <td>Dehradun</td>\n",
       "      <td>100.00</td>\n",
       "      <td>24</td>\n",
       "    </tr>\n",
       "    <tr>\n",
       "      <th>1</th>\n",
       "      <td>Rahul Pathak</td>\n",
       "      <td>22</td>\n",
       "      <td>Delhi</td>\n",
       "      <td>98.56</td>\n",
       "      <td>25</td>\n",
       "    </tr>\n",
       "    <tr>\n",
       "      <th>2</th>\n",
       "      <td>Wangsham Younpe</td>\n",
       "      <td>20</td>\n",
       "      <td>Nagaland</td>\n",
       "      <td>85.88</td>\n",
       "      <td>23</td>\n",
       "    </tr>\n",
       "    <tr>\n",
       "      <th>3</th>\n",
       "      <td>Shaurya</td>\n",
       "      <td>21</td>\n",
       "      <td>Noida</td>\n",
       "      <td>97.00</td>\n",
       "      <td>24</td>\n",
       "    </tr>\n",
       "  </tbody>\n",
       "</table>\n",
       "</div>"
      ],
      "text/plain": [
       "              Name  Age      Place   Score  Degree at age\n",
       "0   Prashant Yadav   21   Dehradun  100.00             24\n",
       "1     Rahul Pathak   22      Delhi   98.56             25\n",
       "2  Wangsham Younpe   20   Nagaland   85.88             23\n",
       "3          Shaurya   21      Noida   97.00             24"
      ]
     },
     "execution_count": 21,
     "metadata": {},
     "output_type": "execute_result"
    }
   ],
   "source": [
    "df[\"Degree at age\"]= df[\"Age\"]+3\n",
    "df.head()"
   ]
  },
  {
   "cell_type": "markdown",
   "id": "68babda9",
   "metadata": {},
   "source": [
    "### Add new row"
   ]
  },
  {
   "cell_type": "code",
   "execution_count": 23,
   "id": "a0efeb5e",
   "metadata": {},
   "outputs": [
    {
     "name": "stdout",
     "output_type": "stream",
     "text": [
      "              Name  Age      Place   Score  Degree at age\n",
      "0   Prashant Yadav   21   Dehradun  100.00             24\n",
      "1     Rahul Pathak   22      Delhi   98.56             25\n",
      "2  Wangsham Younpe   20   Nagaland   85.88             23\n",
      "3          Shaurya   21      Noida   97.00             24\n",
      "4          Shaurya   21      Noida   97.00             22\n",
      "5          Shaurya   21      Noida   50.00             22\n"
     ]
    }
   ],
   "source": [
    "df.loc[len(df)]= [\"Shaurya\",21,\"Noida\", 50, 22]\n",
    "print(df)"
   ]
  },
  {
   "cell_type": "markdown",
   "id": "b48c7a64",
   "metadata": {},
   "source": [
    "### Delete Column"
   ]
  },
  {
   "cell_type": "code",
   "execution_count": 13,
   "id": "65167b77",
   "metadata": {},
   "outputs": [],
   "source": [
    "df.drop(\"Degree at age\", axis=1, inplace=True)"
   ]
  },
  {
   "cell_type": "code",
   "execution_count": 14,
   "id": "1d927e5b",
   "metadata": {},
   "outputs": [
    {
     "data": {
      "text/html": [
       "<div>\n",
       "<style scoped>\n",
       "    .dataframe tbody tr th:only-of-type {\n",
       "        vertical-align: middle;\n",
       "    }\n",
       "\n",
       "    .dataframe tbody tr th {\n",
       "        vertical-align: top;\n",
       "    }\n",
       "\n",
       "    .dataframe thead th {\n",
       "        text-align: right;\n",
       "    }\n",
       "</style>\n",
       "<table border=\"1\" class=\"dataframe\">\n",
       "  <thead>\n",
       "    <tr style=\"text-align: right;\">\n",
       "      <th></th>\n",
       "      <th>Name</th>\n",
       "      <th>Age</th>\n",
       "      <th>Place</th>\n",
       "      <th>Score</th>\n",
       "    </tr>\n",
       "  </thead>\n",
       "  <tbody>\n",
       "    <tr>\n",
       "      <th>0</th>\n",
       "      <td>Prashant Yadav</td>\n",
       "      <td>21</td>\n",
       "      <td>Dehradun</td>\n",
       "      <td>100.00</td>\n",
       "    </tr>\n",
       "    <tr>\n",
       "      <th>1</th>\n",
       "      <td>Rahul Pathak</td>\n",
       "      <td>22</td>\n",
       "      <td>Delhi</td>\n",
       "      <td>98.56</td>\n",
       "    </tr>\n",
       "    <tr>\n",
       "      <th>2</th>\n",
       "      <td>Wangsham Younpe</td>\n",
       "      <td>20</td>\n",
       "      <td>Nagaland</td>\n",
       "      <td>85.88</td>\n",
       "    </tr>\n",
       "    <tr>\n",
       "      <th>3</th>\n",
       "      <td>Shaurya</td>\n",
       "      <td>21</td>\n",
       "      <td>Noida</td>\n",
       "      <td>97.00</td>\n",
       "    </tr>\n",
       "  </tbody>\n",
       "</table>\n",
       "</div>"
      ],
      "text/plain": [
       "              Name  Age      Place   Score\n",
       "0   Prashant Yadav   21   Dehradun  100.00\n",
       "1     Rahul Pathak   22      Delhi   98.56\n",
       "2  Wangsham Younpe   20   Nagaland   85.88\n",
       "3          Shaurya   21      Noida   97.00"
      ]
     },
     "execution_count": 14,
     "metadata": {},
     "output_type": "execute_result"
    }
   ],
   "source": [
    "df.head()"
   ]
  },
  {
   "cell_type": "markdown",
   "id": "05fa6f6b",
   "metadata": {},
   "source": [
    "## Handle Missing Data"
   ]
  },
  {
   "cell_type": "code",
   "execution_count": 16,
   "id": "03595e9b",
   "metadata": {},
   "outputs": [
    {
     "name": "stdout",
     "output_type": "stream",
     "text": [
      "              Name  Age      Place   Score\n",
      "0   Prashant Yadav   21   Dehradun  100.00\n",
      "1     Rahul Pathak   22      Delhi   98.56\n",
      "2  Wangsham Younpe   20   Nagaland   85.88\n",
      "3          Shaurya   21      Noida   97.00\n"
     ]
    }
   ],
   "source": [
    "df.isnull().sum()           #count missing data\n",
    "df.fillna(0,inplace= True)  #fill missing with 0\n",
    "df.dropna(inplace= True)    #drop rows with missing data\n",
    "\n",
    "print(df)"
   ]
  },
  {
   "cell_type": "markdown",
   "id": "8e7f1ad0",
   "metadata": {},
   "source": [
    "## Grouping and Aggregation in Pandas"
   ]
  },
  {
   "cell_type": "markdown",
   "id": "d9d2ae91",
   "metadata": {},
   "source": [
    "### Mean"
   ]
  },
  {
   "cell_type": "code",
   "execution_count": 24,
   "id": "e3108f1d",
   "metadata": {},
   "outputs": [
    {
     "name": "stdout",
     "output_type": "stream",
     "text": [
      "Place\n",
      " Nagaland     85.880000\n",
      "Dehradun     100.000000\n",
      "Delhi         98.560000\n",
      "Noida         81.333333\n",
      "Name: Score, dtype: float64\n"
     ]
    }
   ],
   "source": [
    "avg_scores= df.groupby(\"Place\")[\"Score\"].mean()\n",
    "print(avg_scores)"
   ]
  },
  {
   "cell_type": "markdown",
   "id": "2a2a5d57",
   "metadata": {},
   "source": [
    "\n",
    "### Mean, max and min"
   ]
  },
  {
   "cell_type": "code",
   "execution_count": 27,
   "id": "86531e06",
   "metadata": {},
   "outputs": [
    {
     "name": "stdout",
     "output_type": "stream",
     "text": [
      "      mean     max    min\n",
      "Age                      \n",
      "20   85.88   85.88  85.88\n",
      "21   86.00  100.00  50.00\n",
      "22   98.56   98.56  98.56\n"
     ]
    }
   ],
   "source": [
    "# when you want want both MEAN and MAX score per city\n",
    "\n",
    "summary= df.groupby(\"Age\")[\"Score\"].agg(['mean','max','min'])\n",
    "print(summary)"
   ]
  },
  {
   "cell_type": "markdown",
   "id": "d99eaa7a",
   "metadata": {},
   "source": [
    "### Group by multiple columns"
   ]
  },
  {
   "cell_type": "code",
   "execution_count": 28,
   "id": "10dadc86",
   "metadata": {},
   "outputs": [
    {
     "name": "stdout",
     "output_type": "stream",
     "text": [
      "Place      Age\n",
      " Nagaland  20      85.880000\n",
      "Dehradun   21     100.000000\n",
      "Delhi      22      98.560000\n",
      "Noida      21      81.333333\n",
      "Name: Score, dtype: float64\n"
     ]
    }
   ],
   "source": [
    "groupedM= df.groupby([\"Place\",\"Age\"])[\"Score\"].mean()\n",
    "print(groupedM)"
   ]
  },
  {
   "cell_type": "code",
   "execution_count": 29,
   "id": "3b405dbe",
   "metadata": {},
   "outputs": [
    {
     "name": "stdout",
     "output_type": "stream",
     "text": [
      "              Name  Age      Place   Score  Degree at age\n",
      "0   Prashant Yadav   21   Dehradun  100.00             24\n",
      "1     Rahul Pathak   22      Delhi   98.56             25\n",
      "2  Wangsham Younpe   20   Nagaland   85.88             23\n",
      "3          Shaurya   21      Noida   97.00             24\n",
      "4          Shaurya   21      Noida   97.00             22\n",
      "5          Shaurya   21      Noida   50.00             22\n"
     ]
    }
   ],
   "source": [
    "print(df)"
   ]
  },
  {
   "cell_type": "markdown",
   "id": "29212246",
   "metadata": {},
   "source": [
    "## Save or export file"
   ]
  },
  {
   "cell_type": "code",
   "execution_count": 32,
   "id": "40d4965f",
   "metadata": {},
   "outputs": [],
   "source": [
    "df.to_csv(\"cleaned_data.csv\", index= False)\n",
    "df.to_excel(\"cleaned_data_excel.xlsx\", index= False)"
   ]
  }
 ],
 "metadata": {
  "kernelspec": {
   "display_name": "Python 3",
   "language": "python",
   "name": "python3"
  },
  "language_info": {
   "codemirror_mode": {
    "name": "ipython",
    "version": 3
   },
   "file_extension": ".py",
   "mimetype": "text/x-python",
   "name": "python",
   "nbconvert_exporter": "python",
   "pygments_lexer": "ipython3",
   "version": "3.12.10"
  }
 },
 "nbformat": 4,
 "nbformat_minor": 5
}
